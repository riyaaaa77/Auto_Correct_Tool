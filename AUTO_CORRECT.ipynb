{
 "cells": [
  {
   "cell_type": "markdown",
   "id": "ca246080",
   "metadata": {},
   "source": [
    "# Bharat Intern - VIRTUAL INTERNSHIP 2023"
   ]
  },
  {
   "cell_type": "markdown",
   "id": "d66f828d",
   "metadata": {},
   "source": [
    "# By - Riya Kumari"
   ]
  },
  {
   "cell_type": "markdown",
   "id": "762213ac",
   "metadata": {},
   "source": [
    "# Task 2 - Auto Correct tool \n",
    "The AI tool that must correct the word or give the word which is nearest to it."
   ]
  },
  {
   "cell_type": "markdown",
   "id": "8cdadf13",
   "metadata": {},
   "source": [
    "# Installing the packages\n",
    "1. Clone the repository to your local machine.\n",
    "2. Install the pyenchant library using pip install pyenchant.\n",
    "3. Run the script using python autocorrect.ipynb.\n"
   ]
  },
  {
   "cell_type": "code",
   "execution_count": 11,
   "id": "60de372d",
   "metadata": {},
   "outputs": [
    {
     "name": "stdout",
     "output_type": "stream",
     "text": [
      "Collecting pyenchant\n",
      "  Downloading pyenchant-3.2.2-py3-none-win_amd64.whl (11.9 MB)\n",
      "Installing collected packages: pyenchant\n",
      "Successfully installed pyenchant-3.2.2\n"
     ]
    }
   ],
   "source": [
    "!pip install pyenchant"
   ]
  },
  {
   "cell_type": "code",
   "execution_count": 1,
   "id": "fb637b1a",
   "metadata": {},
   "outputs": [
    {
     "name": "stdout",
     "output_type": "stream",
     "text": [
      "Requirement already satisfied: spello in c:\\users\\dell\\anaconda3\\lib\\site-packages (1.3.0)\n",
      "Requirement already satisfied: nltk<4,>=3.4.5 in c:\\users\\dell\\anaconda3\\lib\\site-packages (from spello) (3.7)\n",
      "Requirement already satisfied: joblib in c:\\users\\dell\\anaconda3\\lib\\site-packages (from nltk<4,>=3.4.5->spello) (1.1.0)\n",
      "Requirement already satisfied: tqdm in c:\\users\\dell\\anaconda3\\lib\\site-packages (from nltk<4,>=3.4.5->spello) (4.64.0)\n",
      "Requirement already satisfied: click in c:\\users\\dell\\anaconda3\\lib\\site-packages (from nltk<4,>=3.4.5->spello) (8.0.4)\n",
      "Requirement already satisfied: regex>=2021.8.3 in c:\\users\\dell\\anaconda3\\lib\\site-packages (from nltk<4,>=3.4.5->spello) (2022.3.15)\n",
      "Requirement already satisfied: colorama in c:\\users\\dell\\anaconda3\\lib\\site-packages (from click->nltk<4,>=3.4.5->spello) (0.4.6)\n"
     ]
    }
   ],
   "source": [
    "!pip install spello"
   ]
  },
  {
   "cell_type": "markdown",
   "id": "eeb3e6f0",
   "metadata": {},
   "source": [
    "# Importing the spello model "
   ]
  },
  {
   "cell_type": "code",
   "execution_count": 2,
   "id": "9715e545",
   "metadata": {},
   "outputs": [],
   "source": [
    "from spello.model import SpellCorrectionModel"
   ]
  },
  {
   "cell_type": "code",
   "execution_count": 3,
   "id": "6c2cf95d",
   "metadata": {},
   "outputs": [],
   "source": [
    "sp = SpellCorrectionModel(language=\"en\")"
   ]
  },
  {
   "cell_type": "markdown",
   "id": "7f286573",
   "metadata": {},
   "source": [
    "# Loading the text dataset"
   ]
  },
  {
   "cell_type": "code",
   "execution_count": 4,
   "id": "0f2103c6",
   "metadata": {},
   "outputs": [],
   "source": [
    "with open (\"C://Users//Dell//Downloads//words.txt\") as file:\n",
    "    data = file.readlines()\n",
    "\n",
    "data = [i.strip() for i in data]"
   ]
  },
  {
   "cell_type": "markdown",
   "id": "c400047e",
   "metadata": {},
   "source": [
    "# Training the data"
   ]
  },
  {
   "cell_type": "code",
   "execution_count": 5,
   "id": "71f76842",
   "metadata": {},
   "outputs": [
    {
     "name": "stdout",
     "output_type": "stream",
     "text": [
      "Spello training started..\n",
      "Context model training started ...\n",
      "Symspell training started ...\n",
      "Phoneme training started ...\n",
      "Spello training completed successfully ...\n"
     ]
    }
   ],
   "source": [
    "sp.train(data)"
   ]
  },
  {
   "cell_type": "code",
   "execution_count": 6,
   "id": "ba2876bb",
   "metadata": {},
   "outputs": [
    {
     "data": {
      "text/plain": [
       "'.\\\\model.pkl'"
      ]
     },
     "execution_count": 6,
     "metadata": {},
     "output_type": "execute_result"
    }
   ],
   "source": [
    "sp.save(\"\")"
   ]
  },
  {
   "cell_type": "code",
   "execution_count": 7,
   "id": "bd8be175",
   "metadata": {},
   "outputs": [
    {
     "data": {
      "text/plain": [
       "<spello.model.SpellCorrectionModel at 0x26177e65430>"
      ]
     },
     "execution_count": 7,
     "metadata": {},
     "output_type": "execute_result"
    }
   ],
   "source": [
    "\n",
    "\n",
    "sp.load(\"model.pkl\")\n",
    "\n"
   ]
  },
  {
   "cell_type": "markdown",
   "id": "afa3b04e",
   "metadata": {},
   "source": [
    "# Giving input with wrong spelling"
   ]
  },
  {
   "cell_type": "code",
   "execution_count": 8,
   "id": "94e0efce",
   "metadata": {},
   "outputs": [
    {
     "name": "stdout",
     "output_type": "stream",
     "text": [
      "Enter the word/sentence : enviromment\n"
     ]
    }
   ],
   "source": [
    "sentence = input(\"Enter the word/sentence : \")"
   ]
  },
  {
   "cell_type": "code",
   "execution_count": 9,
   "id": "f8666501",
   "metadata": {},
   "outputs": [],
   "source": [
    "words = sentence.split()"
   ]
  },
  {
   "cell_type": "markdown",
   "id": "4be5bf08",
   "metadata": {},
   "source": [
    "# Output with correct spelling"
   ]
  },
  {
   "cell_type": "code",
   "execution_count": 10,
   "id": "5131d727",
   "metadata": {},
   "outputs": [
    {
     "data": {
      "text/plain": [
       "'environment'"
      ]
     },
     "execution_count": 10,
     "metadata": {},
     "output_type": "execute_result"
    }
   ],
   "source": [
    "correct_words = []\n",
    "for word in words:\n",
    "    corrected = sp.spell_correct(word)\n",
    "    correct_words.append(corrected['spell_corrected_text'])\n",
    "    \n",
    "corrected_sentence = \" \".join(correct_words)\n",
    "\n",
    "corrected_sentence"
   ]
  },
  {
   "cell_type": "code",
   "execution_count": null,
   "id": "2c429aad",
   "metadata": {},
   "outputs": [],
   "source": []
  }
 ],
 "metadata": {
  "kernelspec": {
   "display_name": "Python 3 (ipykernel)",
   "language": "python",
   "name": "python3"
  },
  "language_info": {
   "codemirror_mode": {
    "name": "ipython",
    "version": 3
   },
   "file_extension": ".py",
   "mimetype": "text/x-python",
   "name": "python",
   "nbconvert_exporter": "python",
   "pygments_lexer": "ipython3",
   "version": "3.9.12"
  }
 },
 "nbformat": 4,
 "nbformat_minor": 5
}
